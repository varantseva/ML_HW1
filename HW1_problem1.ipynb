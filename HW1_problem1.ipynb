{
  "nbformat": 4,
  "nbformat_minor": 0,
  "metadata": {
    "colab": {
      "name": "HW1_problem1.ipynb",
      "provenance": [],
      "collapsed_sections": []
    },
    "kernelspec": {
      "name": "python3",
      "display_name": "Python 3"
    },
    "language_info": {
      "name": "python"
    }
  },
  "cells": [
    {
      "cell_type": "code",
      "metadata": {
        "id": "q9kQeWtXGKp_"
      },
      "source": [
        "from google.colab import files\n",
        "import pandas as pd\n",
        "import numpy as np"
      ],
      "execution_count": 9,
      "outputs": []
    },
    {
      "cell_type": "markdown",
      "metadata": {
        "id": "hYgD9t9MHGj3"
      },
      "source": [
        "Загрузка данных"
      ]
    },
    {
      "cell_type": "code",
      "metadata": {
        "id": "99GyZQqhHCre"
      },
      "source": [
        "url = 'https://raw.githubusercontent.com/varantseva/MLbase_2021_spring/main/lecture02/Homework/Problem1/weatherAUS.csv'\n",
        "df = pd.read_csv(url)\n",
        "df.isna().sum()"
      ],
      "execution_count": null,
      "outputs": []
    },
    {
      "cell_type": "markdown",
      "metadata": {
        "id": "ARTTUbiiHXTc"
      },
      "source": [
        "Предобработка: удаление стоблцов в которых более 50000 значений отсудствуют, удаление строк с нулевыми значениями (иначе далее не выполняется кодировка строчных значений), замена названий столбцов, так как они загружаются с лишними проблеми из внешнего файла."
      ]
    },
    {
      "cell_type": "code",
      "metadata": {
        "id": "wPofIu7zHXDW"
      },
      "source": [
        "df_name_columns = ['Date', 'Location', 'MinTemp', 'MaxTemp', 'Rainfall', 'Evaporation', 'Sunshine', 'WindGustDir', 'WindGustSpeed', 'WindDir9am', 'WindDir3pm', 'WindSpeed9am', 'WindSpeed3pm', 'Humidity9am', 'Humidity3pm', 'Pressure9am', 'Pressure3pm', 'Cloud9am','Cloud3pm', 'Temp9am', 'Temp3pm', 'RainToday', 'RainTomorrow'] \n",
        "df.set_axis(df_name_columns, axis = 'columns', inplace = True)\n",
        "df.drop(columns=[\"Date\", \"Evaporation\", \"Sunshine\", \"Cloud9am\", \"Cloud3pm\"], inplace = True)\n",
        "df.dropna(inplace = True)\n",
        "df"
      ],
      "execution_count": null,
      "outputs": []
    },
    {
      "cell_type": "markdown",
      "metadata": {
        "id": "X9r0OoUv-W78"
      },
      "source": [
        "Щифрование строчных значений в численные "
      ]
    },
    {
      "cell_type": "code",
      "metadata": {
        "id": "m-BkjxgcmZyM"
      },
      "source": [
        "from sklearn import preprocessing\n",
        "\n",
        "labelencoder = preprocessing.LabelEncoder()\n",
        "df['Location'] = labelencoder.fit_transform(df['Location'])\n",
        "df['WindGustDir'] = labelencoder.fit_transform(df['WindGustDir'])\n",
        "df['WindDir9am'] = labelencoder.fit_transform(df['WindDir9am'])\n",
        "df['WindDir3pm'] = labelencoder.fit_transform(df['WindDir3pm'])\n",
        "df['RainToday'] = labelencoder.fit_transform(df['RainToday'])\n",
        "df['RainTomorrow'] = labelencoder.fit_transform(df['RainTomorrow'])"
      ],
      "execution_count": 12,
      "outputs": []
    },
    {
      "cell_type": "markdown",
      "metadata": {
        "id": "MaO77v46mH6Y"
      },
      "source": [
        "Разделение данных на тренировочные и тестовые"
      ]
    },
    {
      "cell_type": "code",
      "metadata": {
        "id": "cTWFi7N4sSlm"
      },
      "source": [
        "from sklearn.model_selection import train_test_split\n",
        "\n",
        "y = pd.Series(df['RainTomorrow']) \n",
        "x = pd.DataFrame(data = df.loc[:'RainToday'], columns = df.columns[:-2])\n",
        "X_train, X_test, y_train, y_test = train_test_split(x, y, test_size=0.75)"
      ],
      "execution_count": 13,
      "outputs": []
    },
    {
      "cell_type": "markdown",
      "metadata": {
        "id": "e1ASODcSmVPA"
      },
      "source": [
        "Наивный Баес "
      ]
    },
    {
      "cell_type": "code",
      "metadata": {
        "colab": {
          "base_uri": "https://localhost:8080/"
        },
        "id": "cDKEPplt4GoT",
        "outputId": "43f97ec4-cce1-47d3-ee6f-d8415beaaa5d"
      },
      "source": [
        "%time\n",
        "from sklearn.metrics import classification_report\n",
        "from sklearn.naive_bayes import  GaussianNB\n",
        "\n",
        "classifier = GaussianNB()\n",
        "classifier.fit(X_train, y_train)\n",
        "prediction = classifier.predict(X_test)\n",
        "\n",
        "print (np.mean(prediction == y_test))\n",
        "\n",
        "print(classification_report(y_test, prediction))"
      ],
      "execution_count": 14,
      "outputs": [
        {
          "output_type": "stream",
          "text": [
            "CPU times: user 4 µs, sys: 0 ns, total: 4 µs\n",
            "Wall time: 8.82 µs\n",
            "0.823092544926441\n",
            "              precision    recall  f1-score   support\n",
            "\n",
            "           0       0.86      0.92      0.89     65983\n",
            "           1       0.63      0.49      0.55     18711\n",
            "\n",
            "    accuracy                           0.82     84694\n",
            "   macro avg       0.75      0.70      0.72     84694\n",
            "weighted avg       0.81      0.82      0.82     84694\n",
            "\n"
          ],
          "name": "stdout"
        }
      ]
    },
    {
      "cell_type": "markdown",
      "metadata": {
        "id": "XkPzb5Wgmes-"
      },
      "source": [
        "Определение оптимального k для метода ближайших соседей"
      ]
    },
    {
      "cell_type": "code",
      "metadata": {
        "id": "iLmu_2OGUNE1"
      },
      "source": [
        "%%time\n",
        "\n",
        "from sklearn.neighbors import KNeighborsClassifier\n",
        "\n",
        "n_nb = range(1, 30)\n",
        "res = []\n",
        "\n",
        "for i in n_nb: \n",
        "    neigh = KNeighborsClassifier(n_neighbors=i)\n",
        "    neigh.fit(X_train, y_train)\n",
        "\n",
        "    prediction = neigh.predict(X_test)\n",
        "\n",
        "    res.append((np.mean(prediction == y_test)))"
      ],
      "execution_count": null,
      "outputs": []
    },
    {
      "cell_type": "code",
      "metadata": {
        "id": "RmyLz39pXedC"
      },
      "source": [
        "import matplotlib.pyplot as plt\n",
        "\n",
        "plt.plot(n_nb, res)\n",
        "plt.xlabel(\"n_neighbors\")\n",
        "plt.ylabel(\"score\")\n",
        "plt.title(\"Score on KNeighborsClassifier\")\n",
        "plt.show()"
      ],
      "execution_count": null,
      "outputs": []
    },
    {
      "cell_type": "markdown",
      "metadata": {
        "id": "Bgr6RPRtmk3t"
      },
      "source": [
        "Метод ближайших соседей (k=16)"
      ]
    },
    {
      "cell_type": "code",
      "metadata": {
        "colab": {
          "base_uri": "https://localhost:8080/"
        },
        "id": "6jTvwNCW4GWl",
        "outputId": "4c94d229-55d9-43fc-df45-32c57fd1907e"
      },
      "source": [
        "%%time\n",
        "\n",
        "neigh = KNeighborsClassifier(n_neighbors=16)\n",
        "neigh.fit(X_train, y_train)\n",
        "\n",
        "prediction = neigh.predict(X_test)\n",
        "print (np.mean(prediction == y_test))\n",
        "\n",
        "print(classification_report(y_test, prediction))"
      ],
      "execution_count": 16,
      "outputs": [
        {
          "output_type": "stream",
          "text": [
            "0.8483953999102651\n",
            "              precision    recall  f1-score   support\n",
            "\n",
            "           0       0.86      0.96      0.91     65983\n",
            "           1       0.77      0.44      0.56     18711\n",
            "\n",
            "    accuracy                           0.85     84694\n",
            "   macro avg       0.82      0.70      0.74     84694\n",
            "weighted avg       0.84      0.85      0.83     84694\n",
            "\n",
            "CPU times: user 29.3 s, sys: 43.8 ms, total: 29.3 s\n",
            "Wall time: 29.2 s\n"
          ],
          "name": "stdout"
        }
      ]
    },
    {
      "cell_type": "markdown",
      "metadata": {
        "id": "6pYcCTE1Ftjw"
      },
      "source": [
        "**Логистическая Регрессия**\n"
      ]
    },
    {
      "cell_type": "code",
      "metadata": {
        "colab": {
          "base_uri": "https://localhost:8080/"
        },
        "id": "9rfqpwQ_BRvE",
        "outputId": "7fc8ffb8-5d68-4174-b6b5-955474d7c396"
      },
      "source": [
        "%time\n",
        "\n",
        "from sklearn.linear_model import LogisticRegression\n",
        "\n",
        "classifier = LogisticRegression(penalty =  'l2', max_iter = 5000)\n",
        "classifier.fit(X_train, y_train)\n",
        "prediction = classifier.predict(X_test)"
      ],
      "execution_count": 17,
      "outputs": [
        {
          "output_type": "stream",
          "text": [
            "CPU times: user 3 µs, sys: 0 ns, total: 3 µs\n",
            "Wall time: 8.58 µs\n"
          ],
          "name": "stdout"
        }
      ]
    },
    {
      "cell_type": "code",
      "metadata": {
        "colab": {
          "base_uri": "https://localhost:8080/"
        },
        "id": "ZjmijeYxBhZe",
        "outputId": "a515d7df-7fd5-4306-8d5c-7170830b842f"
      },
      "source": [
        "import numpy as np\n",
        "\n",
        "print (np.mean(prediction == y_test))"
      ],
      "execution_count": 18,
      "outputs": [
        {
          "output_type": "stream",
          "text": [
            "0.8470729921836258\n"
          ],
          "name": "stdout"
        }
      ]
    },
    {
      "cell_type": "code",
      "metadata": {
        "colab": {
          "base_uri": "https://localhost:8080/"
        },
        "id": "W0JXr1VCF_ax",
        "outputId": "781f4ceb-96d1-45ef-f70c-ba9460855556"
      },
      "source": [
        "from sklearn.metrics import confusion_matrix\n",
        "print (confusion_matrix(y_test, prediction))"
      ],
      "execution_count": 19,
      "outputs": [
        {
          "output_type": "stream",
          "text": [
            "[[62598  3385]\n",
            " [ 9567  9144]]\n"
          ],
          "name": "stdout"
        }
      ]
    },
    {
      "cell_type": "code",
      "metadata": {
        "colab": {
          "base_uri": "https://localhost:8080/",
          "height": 279
        },
        "id": "iRPVjqyYGB7I",
        "outputId": "88547de1-eccf-49b2-bbf5-67dee6cf0386"
      },
      "source": [
        "import matplotlib.pyplot as plt\n",
        "from sklearn.metrics import plot_confusion_matrix\n",
        "\n",
        "plot_confusion_matrix(classifier, X_test, y_test) \n",
        "plt.show()"
      ],
      "execution_count": 20,
      "outputs": [
        {
          "output_type": "display_data",
          "data": {
            "image/png": "[encoded data removed]",
            "text/plain": [
              "<Figure size 432x288 with 2 Axes>"
            ]
          },
          "metadata": {
            "tags": [],
            "needs_background": "light"
          }
        }
      ]
    },
    {
      "cell_type": "code",
      "metadata": {
        "colab": {
          "base_uri": "https://localhost:8080/"
        },
        "id": "jAOEq9wIGE3l",
        "outputId": "da10f3b0-0032-4175-bc58-3b8149851d0a"
      },
      "source": [
        "from sklearn.metrics import classification_report\n",
        "print(classification_report(y_test, prediction))"
      ],
      "execution_count": 21,
      "outputs": [
        {
          "output_type": "stream",
          "text": [
            "              precision    recall  f1-score   support\n",
            "\n",
            "           0       0.87      0.95      0.91     65983\n",
            "           1       0.73      0.49      0.59     18711\n",
            "\n",
            "    accuracy                           0.85     84694\n",
            "   macro avg       0.80      0.72      0.75     84694\n",
            "weighted avg       0.84      0.85      0.84     84694\n",
            "\n"
          ],
          "name": "stdout"
        }
      ]
    },
    {
      "cell_type": "markdown",
      "metadata": {
        "id": "uHuvBqZmnCrU"
      },
      "source": [
        "Сравнение метрик и времени моделей:\n",
        "\n",
        "1.   Время \n",
        "    \n",
        "*   наивный баес: 8.82 µs\n",
        "*   ближайшие соседи(k=16): 29.2 s\n",
        "*   логистическая регрессия 8.58 µs\n",
        "\n",
        "2.   Среднее откронение \n",
        "*   наивный баес: 0.823\n",
        "*   ближайшие соседи(k=16): 0.848\n",
        "*   логистическая регрессия 0.847\n",
        "\n",
        "\n",
        "\n"
      ]
    }
  ]
}